{
  "nbformat": 4,
  "nbformat_minor": 0,
  "metadata": {
    "colab": {
      "provenance": [],
      "authorship_tag": "ABX9TyMaDVRkHeSJZNAa+TJAJLHj",
      "include_colab_link": true
    },
    "kernelspec": {
      "name": "python3",
      "display_name": "Python 3"
    },
    "language_info": {
      "name": "python"
    }
  },
  "cells": [
    {
      "cell_type": "markdown",
      "metadata": {
        "id": "view-in-github",
        "colab_type": "text"
      },
      "source": [
        "<a href=\"https://colab.research.google.com/github/zsabro/Batch04_to_35/blob/main/Python_Streamlit_BMI_Calculator_Web_App_in_Just_6_Minutes.ipynb\" target=\"_parent\"><img src=\"https://colab.research.google.com/assets/colab-badge.svg\" alt=\"Open In Colab\"/></a>"
      ]
    },
    {
      "cell_type": "markdown",
      "source": [
        "## BMI Calculator project\n",
        "\n",
        "* The project was prepared in VS Code and it successfully run."
      ],
      "metadata": {
        "id": "HIS-yNK-T2x4"
      }
    },
    {
      "cell_type": "code",
      "source": [
        "# prompt: def bmi_calculator():\n",
        "# \"\"\"\n",
        "# Please create a \"BMI calculator Web App\" by using \"Streamlit\" and \"Pandas\". The app will obtain an input from the user as follows:\n",
        "# 1. Height in cm\n",
        "# 2. Weight in kgs.\n",
        "# After obtaining the inputs the program will calculate the associated BMI by dividing the \"weight\" from \"Height\" and the result will be \"square by 2\". The program should also display the BMI international averages as well with clear description of each BMI.\n",
        "\n",
        "import streamlit as st\n",
        "import pandas as pd\n",
        "\n",
        "def bmi_calculator():\n",
        "    st.title(\"BMI Calculator\")\n",
        "\n",
        "    # Input fields\n",
        "    height_cm = st.number_input(\"Enter your height (cm)\", min_value=0.0, step=0.1)\n",
        "    weight_kg = st.number_input(\"Enter your weight (kg)\", min_value=0.0, step=0.1)\n",
        "\n",
        "    # BMI Calculation\n",
        "    if height_cm > 0 and weight_kg > 0:\n",
        "      height_m = height_cm / 100\n",
        "      bmi = weight_kg / (height_m ** 2)\n",
        "\n",
        "      # Display BMI\n",
        "      st.write(f\"Your BMI is: {bmi:.2f}\")\n",
        "\n",
        "      # BMI Categories\n",
        "      bmi_categories = pd.DataFrame({\n",
        "          'Category': ['Underweight', 'Normal weight', 'Overweight', 'Obesity Class I', 'Obesity Class II', 'Obesity Class III'],\n",
        "          'BMI Range (kg/m²)': ['< 18.5', '18.5 - 24.9', '25.0 - 29.9', '30.0 - 34.9', '35.0 - 39.9', '≥ 40'],\n",
        "          'Description': [\n",
        "              'Malnutrition risk',\n",
        "              'Low risk',\n",
        "              'Moderate risk',\n",
        "              'High risk',\n",
        "              'Very high risk',\n",
        "              'Extremely high risk'\n",
        "          ]\n",
        "      })\n",
        "\n",
        "      st.subheader(\"BMI Categories:\")\n",
        "      st.table(bmi_categories)\n",
        "\n",
        "      # BMI interpretation based on calculated BMI\n",
        "      if bmi < 18.5:\n",
        "          st.write(\"You are underweight.\")\n",
        "      elif 18.5 <= bmi < 25:\n",
        "          st.write(\"You are in a healthy weight range.\")\n",
        "      elif 25 <= bmi < 30:\n",
        "          st.write(\"You are overweight.\")\n",
        "      elif 30 <= bmi < 35:\n",
        "          st.write(\"You are in Obesity Class I.\")\n",
        "      elif 35 <= bmi < 40:\n",
        "          st.write(\"You are in Obesity Class II.\")\n",
        "      else:\n",
        "          st.write(\"You are in Obesity Class III.\")\n",
        "    else:\n",
        "        st.write(\"Please enter valid height and weight values.\")\n",
        "\n",
        "if __name__ == \"__main__\":\n",
        "    bmi_calculator()"
      ],
      "metadata": {
        "id": "jqjAtxTEGrk4"
      },
      "execution_count": null,
      "outputs": []
    }
  ]
}