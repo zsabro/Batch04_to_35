{
  "nbformat": 4,
  "nbformat_minor": 0,
  "metadata": {
    "colab": {
      "name": "IOT055274_Zeeshan_Assignment02.ip",
      "provenance": [],
      "authorship_tag": "ABX9TyNMiT/BXWDjm9T217IPAq5P",
      "include_colab_link": true
    },
    "kernelspec": {
      "name": "python3",
      "display_name": "Python 3"
    }
  },
  "cells": [
    {
      "cell_type": "markdown",
      "metadata": {
        "id": "view-in-github",
        "colab_type": "text"
      },
      "source": [
        "<a href=\"https://colab.research.google.com/github/zsabro/Batch04_to_35/blob/main/IOT055274_Zeeshan_Assignment02_ip.ipynb\" target=\"_parent\"><img src=\"https://colab.research.google.com/assets/colab-badge.svg\" alt=\"Open In Colab\"/></a>"
      ]
    },
    {
      "cell_type": "code",
      "metadata": {
        "id": "Un3n10lxn9RV",
        "colab": {
          "base_uri": "https://localhost:8080/"
        },
        "outputId": "f6721fc2-e00d-4b82-f6cd-47aeb6b05871"
      },
      "source": [
        "def function3():\r\n",
        "    #extract those numbers from given array. those are must exist in 5,7 Table\r\n",
        "    #example [35,70,105,..]\r\n",
        "    a = np.arange(1, 100*10+1).reshape((100,10))\r\n",
        "    x = np.where(a%5 == 1) and np.where(a%7 == 1) #wrtie your code here\r\n",
        "    return x\r\n",
        "    \"\"\"\r\n",
        "    Expected Output:\r\n",
        "     [35,  70, 105, 140, 175, 210, 245, 280, 315, 350, 385, 420, 455,\r\n",
        "       490, 525, 560, 595, 630, 665, 700, 735, 770, 805, 840, 875, 910,\r\n",
        "       945, 980] \r\n",
        "    \"\"\"\r\n",
        "function3() "
      ],
      "execution_count": 114,
      "outputs": [
        {
          "output_type": "execute_result",
          "data": {
            "text/plain": [
              "(array([ 0,  0,  1,  2,  2,  3,  4,  4,  5,  6,  7,  7,  8,  9,  9, 10, 11,\n",
              "        11, 12, 13, 14, 14, 15, 16, 16, 17, 18, 18, 19, 20, 21, 21, 22, 23,\n",
              "        23, 24, 25, 25, 26, 27, 28, 28, 29, 30, 30, 31, 32, 32, 33, 34, 35,\n",
              "        35, 36, 37, 37, 38, 39, 39, 40, 41, 42, 42, 43, 44, 44, 45, 46, 46,\n",
              "        47, 48, 49, 49, 50, 51, 51, 52, 53, 53, 54, 55, 56, 56, 57, 58, 58,\n",
              "        59, 60, 60, 61, 62, 63, 63, 64, 65, 65, 66, 67, 67, 68, 69, 70, 70,\n",
              "        71, 72, 72, 73, 74, 74, 75, 76, 77, 77, 78, 79, 79, 80, 81, 81, 82,\n",
              "        83, 84, 84, 85, 86, 86, 87, 88, 88, 89, 90, 91, 91, 92, 93, 93, 94,\n",
              "        95, 95, 96, 97, 98, 98, 99]),\n",
              " array([0, 7, 4, 1, 8, 5, 2, 9, 6, 3, 0, 7, 4, 1, 8, 5, 2, 9, 6, 3, 0, 7,\n",
              "        4, 1, 8, 5, 2, 9, 6, 3, 0, 7, 4, 1, 8, 5, 2, 9, 6, 3, 0, 7, 4, 1,\n",
              "        8, 5, 2, 9, 6, 3, 0, 7, 4, 1, 8, 5, 2, 9, 6, 3, 0, 7, 4, 1, 8, 5,\n",
              "        2, 9, 6, 3, 0, 7, 4, 1, 8, 5, 2, 9, 6, 3, 0, 7, 4, 1, 8, 5, 2, 9,\n",
              "        6, 3, 0, 7, 4, 1, 8, 5, 2, 9, 6, 3, 0, 7, 4, 1, 8, 5, 2, 9, 6, 3,\n",
              "        0, 7, 4, 1, 8, 5, 2, 9, 6, 3, 0, 7, 4, 1, 8, 5, 2, 9, 6, 3, 0, 7,\n",
              "        4, 1, 8, 5, 2, 9, 6, 3, 0, 7, 4]))"
            ]
          },
          "metadata": {
            "tags": []
          },
          "execution_count": 114
        }
      ]
    },
    {
      "cell_type": "code",
      "metadata": {
        "id": "eIfnfxMKpHPj"
      },
      "source": [
        "def function4():\r\n",
        "    #Swap columns 1 and 2 in the array arr.\r\n",
        "   \r\n",
        "    arr = np.arange(9).reshape(3,3)\r\n",
        "    print(arr)\r\n",
        "    return arr.swapaxes(0, 1) #wrtie your code here\r\n",
        "    \"\"\"\r\n",
        "    Expected Output:\r\n",
        "          array([[1, 0, 2],\r\n",
        "                [4, 3, 5],\r\n",
        "                [7, 6, 8]])\r\n",
        "    \"\"\" \r\n",
        "function4()"
      ],
      "execution_count": null,
      "outputs": []
    },
    {
      "cell_type": "code",
      "metadata": {
        "id": "sAon9zAes2HT"
      },
      "source": [
        "def function5():\r\n",
        "  #Create a null vector of size 20 with 4 rows and 5 columns with numpy function\r\n",
        "  z = np.zeros(20).reshape(4, 5) #wrtie your code here\r\n",
        "  return z\r\n",
        "  \"\"\"\r\n",
        "    Expected Output:\r\n",
        "          array([[0, 0, 0, 0, 0],\r\n",
        "                [0, 0, 0, 0, 0],\r\n",
        "                [0, 0, 0, 0, 0],\r\n",
        "                [0, 0, 0, 0, 0]])\r\n",
        "    \"\"\"\r\n",
        "function5()"
      ],
      "execution_count": null,
      "outputs": []
    },
    {
      "cell_type": "code",
      "metadata": {
        "colab": {
          "base_uri": "https://localhost:8080/"
        },
        "id": "t0n-W6LWt5Jd",
        "outputId": "fffdfe04-118c-43fc-9cb6-52ee1d634e28"
      },
      "source": [
        "#task6\r\n",
        "def function6():\r\n",
        "    # Create a null vector of size 10 but the fifth and eighth value which is 10,20 respectively\r\n",
        "   \r\n",
        "    arr = np.zeros(10) #wrtie your code here\r\n",
        "    #arr = np.insert((5,(10))\r\n",
        "    return arr\r\n",
        "function6()"
      ],
      "execution_count": null,
      "outputs": [
        {
          "output_type": "execute_result",
          "data": {
            "text/plain": [
              "array([0., 0., 0., 0., 0., 0., 0., 0., 0., 0.])"
            ]
          },
          "metadata": {
            "tags": []
          },
          "execution_count": 160
        }
      ]
    },
    {
      "cell_type": "code",
      "metadata": {
        "id": "tsbJDMF1w61h"
      },
      "source": [
        "#task7\r\n",
        "def function7():\r\n",
        "    #  Create an array of zeros with the same shape and type as X. Dont use reshape method\r\n",
        "    x = np.arange(4, dtype=np.int64)\r\n",
        "    print(x)\r\n",
        "    arr = x - x # np.zeros(4) #write your code here\r\n",
        "    return arr\r\n",
        "    \"\"\"\r\n",
        "    Expected Output:\r\n",
        "          array([0, 0, 0, 0], dtype=int64)\r\n",
        "    \"\"\" \r\n",
        "function7()"
      ],
      "execution_count": null,
      "outputs": []
    },
    {
      "cell_type": "code",
      "metadata": {
        "colab": {
          "base_uri": "https://localhost:8080/"
        },
        "id": "a3iQZKVD0OM6",
        "outputId": "3cf36c9a-5bb0-4709-d961-04c705981f0f"
      },
      "source": [
        "#task8\r\n",
        "def function8():\r\n",
        "    # Create a new array of 2x5 uints, filled with 6.\r\n",
        "    x = np.ones(dtype=np.uint32, shape=(2,5))\r\n",
        "    arr = x * 6 #write your code here\r\n",
        "    return arr\r\n",
        "    \r\n",
        "    \"\"\"\r\n",
        "     Expected Output:\r\n",
        "              array([[6, 6, 6, 6, 6],\r\n",
        "                     [6, 6, 6, 6, 6]], dtype=uint32)\r\n",
        "    \"\"\"\r\n",
        "function8()"
      ],
      "execution_count": null,
      "outputs": [
        {
          "output_type": "execute_result",
          "data": {
            "text/plain": [
              "array([[6, 6, 6, 6, 6],\n",
              "       [6, 6, 6, 6, 6]], dtype=uint32)"
            ]
          },
          "metadata": {
            "tags": []
          },
          "execution_count": 243
        }
      ]
    },
    {
      "cell_type": "code",
      "metadata": {
        "colab": {
          "base_uri": "https://localhost:8080/"
        },
        "id": "u7bT1gfX7Xwj",
        "outputId": "c1c3e446-df7c-447d-c658-837853fdb679"
      },
      "source": [
        "#task9\r\n",
        "def function9():\r\n",
        "    # Create an array of 2, 4, 6, 8, ..., 100.\r\n",
        "    a = np.array(100**2) # write your code here\r\n",
        "    return a\r\n",
        "\r\n",
        "    \"\"\"\r\n",
        "     Expected Output:\r\n",
        "              array([  2,   4,   6,   8,  10,  12,  14,  16,  18,  20,  22,  24,  26,\r\n",
        "                    28,  30,  32,  34,  36,  38,  40,  42,  44,  46,  48,  50,  52,\r\n",
        "                    54,  56,  58,  60,  62,  64,  66,  68,  70,  72,  74,  76,  78,\r\n",
        "                    80,  82,  84,  86,  88,  90,  92,  94,  96,  98, 100])\r\n",
        "    \"\"\"\r\n",
        "function9"
      ],
      "execution_count": null,
      "outputs": [
        {
          "output_type": "execute_result",
          "data": {
            "text/plain": [
              "<function __main__.function9>"
            ]
          },
          "metadata": {
            "tags": []
          },
          "execution_count": 244
        }
      ]
    },
    {
      "cell_type": "code",
      "metadata": {
        "colab": {
          "base_uri": "https://localhost:8080/"
        },
        "id": "SHoK3TWA8oJZ",
        "outputId": "73ae6fdc-7b0d-427d-9cf3-0363d44ad853"
      },
      "source": [
        "#task10\r\n",
        "def function10():\r\n",
        "    # Subtract the 1d array brr from the 2d array arr, such that each item of brr subtracts from respective row of arr.\r\n",
        "    \r\n",
        "    arr = np.array([[3,3,3],[4,4,4],[5,5,5]])\r\n",
        "    brr = np.array([1,2,3])\r\n",
        "    subt = arr - brr # write your code here \r\n",
        "  \r\n",
        "    return subt\r\n",
        "\r\n",
        "    \"\"\"\r\n",
        "     Expected Output:\r\n",
        "               array([[2 2 2]\r\n",
        "                      [2 2 2]\r\n",
        "                      [2 2 2]])\r\n",
        "    \"\"\"\r\n",
        "function10()"
      ],
      "execution_count": null,
      "outputs": [
        {
          "output_type": "execute_result",
          "data": {
            "text/plain": [
              "array([[2, 1, 0],\n",
              "       [3, 2, 1],\n",
              "       [4, 3, 2]])"
            ]
          },
          "metadata": {
            "tags": []
          },
          "execution_count": 251
        }
      ]
    },
    {
      "cell_type": "code",
      "metadata": {
        "colab": {
          "base_uri": "https://localhost:8080/"
        },
        "id": "9TzdTaOc9HFl",
        "outputId": "6d789c76-54f3-491f-e3ef-79a6aa8ee9c3"
      },
      "source": [
        "#task11\r\n",
        "def function11():\r\n",
        "    # Replace all odd numbers in arr with -1 without changing arr.\r\n",
        "    \r\n",
        "    arr = np.array([0, 1, 2, 3, 4, 5, 6, 7, 8, 9])\r\n",
        "    ans = np.where(arr/2, -1) #= #write your code here\r\n",
        "    return ans \r\n",
        "    #print(ans)\r\n",
        "\r\n",
        "    \"\"\"\r\n",
        "     Expected Output:\r\n",
        "              array([ 0, -1,  2, -1,  4, -1,  6, -1,  8, -1])\r\n",
        "    \"\"\"\r\n",
        "function11 "
      ],
      "execution_count": null,
      "outputs": [
        {
          "output_type": "execute_result",
          "data": {
            "text/plain": [
              "<function __main__.function11>"
            ]
          },
          "metadata": {
            "tags": []
          },
          "execution_count": 259
        }
      ]
    },
    {
      "cell_type": "code",
      "metadata": {
        "colab": {
          "base_uri": "https://localhost:8080/"
        },
        "id": "DiCHbaOV-tQY",
        "outputId": "be5d6299-0889-4404-aa74-bec95204b67b"
      },
      "source": [
        "#task12\r\n",
        "def function12():\r\n",
        "    # Create the following pattern without hardcoding. Use only numpy functions and the below input array arr.\r\n",
        "    # HINT: use stacking concept\r\n",
        "    \r\n",
        "    arr = np.array([1,2,3])\r\n",
        "    ans = np.concatenate([arr, arr]) #write your code here \r\n",
        "  \r\n",
        "    return ans\r\n",
        "\r\n",
        "    \"\"\"\r\n",
        "     Expected Output:\r\n",
        "              array([1, 1, 1, 2, 2, 2, 3, 3, 3, 1, 2, 3, 1, 2, 3, 1, 2, 3])\r\n",
        "    \"\"\"\r\n",
        "function12()"
      ],
      "execution_count": null,
      "outputs": [
        {
          "output_type": "execute_result",
          "data": {
            "text/plain": [
              "array([1, 2, 3, 1, 2, 3])"
            ]
          },
          "metadata": {
            "tags": []
          },
          "execution_count": 266
        }
      ]
    },
    {
      "cell_type": "code",
      "metadata": {
        "colab": {
          "base_uri": "https://localhost:8080/",
          "height": 322
        },
        "id": "Z5w9OCam_aOk",
        "outputId": "bb404d79-388c-4869-e3cd-b5d71c0f8e84"
      },
      "source": [
        "#task13\r\n",
        "def function13():\r\n",
        "    # Set a condition which gets all items between 5 and 10 from arr.\r\n",
        "    \r\n",
        "    \r\n",
        "    arr = np.array([2, 6, 1, 9, 10, 3, 27])\r\n",
        "    arr>=5 and arr<=10\r\n",
        "    x = arr.all()\r\n",
        "    ans = x\r\n",
        "    # ans = arr # np.where(arr>=5 and arr<=10) #write your code here \r\n",
        "    return ans\r\n",
        "\r\n",
        "    \"\"\"\r\n",
        "     Expected Output:\r\n",
        "              array([6, 9])\r\n",
        "    \"\"\"\r\n",
        "function13()"
      ],
      "execution_count": null,
      "outputs": [
        {
          "output_type": "error",
          "ename": "ValueError",
          "evalue": "ignored",
          "traceback": [
            "\u001b[0;31m---------------------------------------------------------------------------\u001b[0m",
            "\u001b[0;31mValueError\u001b[0m                                Traceback (most recent call last)",
            "\u001b[0;32m<ipython-input-300-d27e23ba063b>\u001b[0m in \u001b[0;36m<module>\u001b[0;34m()\u001b[0m\n\u001b[1;32m     15\u001b[0m               \u001b[0marray\u001b[0m\u001b[0;34m(\u001b[0m\u001b[0;34m[\u001b[0m\u001b[0;36m6\u001b[0m\u001b[0;34m,\u001b[0m \u001b[0;36m9\u001b[0m\u001b[0;34m]\u001b[0m\u001b[0;34m)\u001b[0m\u001b[0;34m\u001b[0m\u001b[0;34m\u001b[0m\u001b[0m\n\u001b[1;32m     16\u001b[0m     \"\"\"\n\u001b[0;32m---> 17\u001b[0;31m \u001b[0mfunction13\u001b[0m\u001b[0;34m(\u001b[0m\u001b[0;34m)\u001b[0m\u001b[0;34m\u001b[0m\u001b[0;34m\u001b[0m\u001b[0m\n\u001b[0m",
            "\u001b[0;32m<ipython-input-300-d27e23ba063b>\u001b[0m in \u001b[0;36mfunction13\u001b[0;34m()\u001b[0m\n\u001b[1;32m      5\u001b[0m \u001b[0;34m\u001b[0m\u001b[0m\n\u001b[1;32m      6\u001b[0m     \u001b[0marr\u001b[0m \u001b[0;34m=\u001b[0m \u001b[0mnp\u001b[0m\u001b[0;34m.\u001b[0m\u001b[0marray\u001b[0m\u001b[0;34m(\u001b[0m\u001b[0;34m[\u001b[0m\u001b[0;36m2\u001b[0m\u001b[0;34m,\u001b[0m \u001b[0;36m6\u001b[0m\u001b[0;34m,\u001b[0m \u001b[0;36m1\u001b[0m\u001b[0;34m,\u001b[0m \u001b[0;36m9\u001b[0m\u001b[0;34m,\u001b[0m \u001b[0;36m10\u001b[0m\u001b[0;34m,\u001b[0m \u001b[0;36m3\u001b[0m\u001b[0;34m,\u001b[0m \u001b[0;36m27\u001b[0m\u001b[0;34m]\u001b[0m\u001b[0;34m)\u001b[0m\u001b[0;34m\u001b[0m\u001b[0;34m\u001b[0m\u001b[0m\n\u001b[0;32m----> 7\u001b[0;31m     \u001b[0marr\u001b[0m\u001b[0;34m>=\u001b[0m\u001b[0;36m5\u001b[0m \u001b[0;32mand\u001b[0m \u001b[0marr\u001b[0m\u001b[0;34m<=\u001b[0m\u001b[0;36m10\u001b[0m\u001b[0;34m\u001b[0m\u001b[0;34m\u001b[0m\u001b[0m\n\u001b[0m\u001b[1;32m      8\u001b[0m     \u001b[0mx\u001b[0m \u001b[0;34m=\u001b[0m \u001b[0marr\u001b[0m\u001b[0;34m.\u001b[0m\u001b[0mall\u001b[0m\u001b[0;34m(\u001b[0m\u001b[0;34m)\u001b[0m\u001b[0;34m\u001b[0m\u001b[0;34m\u001b[0m\u001b[0m\n\u001b[1;32m      9\u001b[0m     \u001b[0mans\u001b[0m \u001b[0;34m=\u001b[0m \u001b[0mx\u001b[0m\u001b[0;34m\u001b[0m\u001b[0;34m\u001b[0m\u001b[0m\n",
            "\u001b[0;31mValueError\u001b[0m: The truth value of an array with more than one element is ambiguous. Use a.any() or a.all()"
          ]
        }
      ]
    },
    {
      "cell_type": "code",
      "metadata": {
        "id": "RQxrgYDK_1OH"
      },
      "source": [
        "import numpy as np\r\n",
        "\r\n",
        "#task14\r\n",
        "def function14():\r\n",
        "    # Create an 8X3 integer array from a range between 10 to 34 such that the difference between each element is 1 and then Split the array into four equal-sized sub-arrays.\r\n",
        "    # Hint use split method\r\n",
        "    arr = np.arange(10, 34, 1).reshape(4, 3, 2) #write reshape code\r\n",
        "    print(arr)\r\n",
        "    ans = np.split(arr, 4, 3) #write your code here \r\n",
        "    return ans\r\n",
        "\"\"\"\r\n",
        "     Expected Output:\r\n",
        "       [array([[10, 11, 12],[13, 14, 15]]), \r\n",
        "        array([[16, 17, 18],[19, 20, 21]]), \r\n",
        "        array([[22, 23, 24],[25, 26, 27]]), \r\n",
        "        array([[28, 29, 30],[31, 32, 33]])]\r\n",
        "\"\"\" \r\n",
        "function14()"
      ],
      "execution_count": null,
      "outputs": []
    },
    {
      "cell_type": "code",
      "metadata": {
        "id": "E9yBP2e0JXXP"
      },
      "source": [
        "import numpy as np \r\n",
        "#task15\r\n",
        "def function15():\r\n",
        "    #Sort following NumPy array by the second column\r\n",
        "    \r\n",
        "    \r\n",
        "    arr = np.array([[ 8,  2, -2],[-4,  1,  7],[ 6,  3,  9]])\r\n",
        "    ans = np.sort(arr, -1) #write your code here \r\n",
        "  \r\n",
        "    return ans\r\n",
        "    \r\n",
        "    \"\"\"\r\n",
        "     Expected Output:\r\n",
        "           array([[-4,  1,  7],\r\n",
        "                   [ 8,  2, -2],\r\n",
        "                   [ 6,  3,  9]])\r\n",
        "    \"\"\" \r\n",
        "\r\n",
        "function15()"
      ],
      "execution_count": null,
      "outputs": []
    },
    {
      "cell_type": "code",
      "metadata": {
        "id": "duaunr5vNELS"
      },
      "source": [
        "#task16\r\n",
        "def function16():\r\n",
        "    #Write a NumPy program to join a sequence of arrays along depth.\r\n",
        "    \r\n",
        "    \r\n",
        "    x = np.array([[1], [2], [3]])\r\n",
        "    y = np.array([[2], [3], [4]])\r\n",
        "    print(x)\r\n",
        "    print(y)\r\n",
        "    ans = np.concatenate((x, y), axis = 1) #write your code here \r\n",
        "    return ans\r\n",
        "    \"\"\"\r\n",
        "     Expected Output:\r\n",
        "                [[[1 2]]\r\n",
        "\r\n",
        "                 [[2 3]]\r\n",
        "\r\n",
        "                 [[3 4]]]\r\n",
        "    \"\"\"\r\n",
        "function16()"
      ],
      "execution_count": null,
      "outputs": []
    },
    {
      "cell_type": "code",
      "metadata": {
        "colab": {
          "base_uri": "https://localhost:8080/"
        },
        "id": "4dcSxe3cv_xW",
        "outputId": "57083a07-13b2-4b2d-fef4-31c3b7825a46"
      },
      "source": [
        "#Task17\r\n",
        "def function17():\r\n",
        "    # replace numbers with \"YES\" if it divided by 3 and 5\r\n",
        "    # otherwise it will be replaced with \"NO\"\r\n",
        "    # Hint: np.where\r\n",
        "    arr = np.arange(1,10*10+1).reshape((10,10))\r\n",
        "    x = np.where(arr %3 == 1, \"yes\", \"no\")\r\n",
        "    return x\r\n",
        "    # return x           # Write Your Code HERE\r\n",
        "\r\n",
        "#Excpected Out\r\n",
        "\"\"\"\r\n",
        "array([['NO', 'NO', 'NO', 'NO', 'NO', 'NO', 'NO', 'NO', 'NO', 'NO'],\r\n",
        "       ['NO', 'NO', 'NO', 'NO', 'YES', 'NO', 'NO', 'NO', 'NO', 'NO'],\r\n",
        "       ['NO', 'NO', 'NO', 'NO', 'NO', 'NO', 'NO', 'NO', 'NO', 'YES'],\r\n",
        "       ['NO', 'NO', 'NO', 'NO', 'NO', 'NO', 'NO', 'NO', 'NO', 'NO'],\r\n",
        "       ['NO', 'NO', 'NO', 'NO', 'YES', 'NO', 'NO', 'NO', 'NO', 'NO'],\r\n",
        "       ['NO', 'NO', 'NO', 'NO', 'NO', 'NO', 'NO', 'NO', 'NO', 'YES'],\r\n",
        "       ['NO', 'NO', 'NO', 'NO', 'NO', 'NO', 'NO', 'NO', 'NO', 'NO'],\r\n",
        "       ['NO', 'NO', 'NO', 'NO', 'YES', 'NO', 'NO', 'NO', 'NO', 'NO'],\r\n",
        "       ['NO', 'NO', 'NO', 'NO', 'NO', 'NO', 'NO', 'NO', 'NO', 'YES'],\r\n",
        "       ['NO', 'NO', 'NO', 'NO', 'NO', 'NO', 'NO', 'NO', 'NO', 'NO']],\r\n",
        "      dtype='<U3')\r\n",
        "\"\"\"\r\n",
        "function17()"
      ],
      "execution_count": null,
      "outputs": [
        {
          "output_type": "execute_result",
          "data": {
            "text/plain": [
              "array([['yes', 'no', 'no', 'yes', 'no', 'no', 'yes', 'no', 'no', 'yes'],\n",
              "       ['no', 'no', 'yes', 'no', 'no', 'yes', 'no', 'no', 'yes', 'no'],\n",
              "       ['no', 'yes', 'no', 'no', 'yes', 'no', 'no', 'yes', 'no', 'no'],\n",
              "       ['yes', 'no', 'no', 'yes', 'no', 'no', 'yes', 'no', 'no', 'yes'],\n",
              "       ['no', 'no', 'yes', 'no', 'no', 'yes', 'no', 'no', 'yes', 'no'],\n",
              "       ['no', 'yes', 'no', 'no', 'yes', 'no', 'no', 'yes', 'no', 'no'],\n",
              "       ['yes', 'no', 'no', 'yes', 'no', 'no', 'yes', 'no', 'no', 'yes'],\n",
              "       ['no', 'no', 'yes', 'no', 'no', 'yes', 'no', 'no', 'yes', 'no'],\n",
              "       ['no', 'yes', 'no', 'no', 'yes', 'no', 'no', 'yes', 'no', 'no'],\n",
              "       ['yes', 'no', 'no', 'yes', 'no', 'no', 'yes', 'no', 'no', 'yes']],\n",
              "      dtype='<U3')"
            ]
          },
          "metadata": {
            "tags": []
          },
          "execution_count": 81
        }
      ]
    },
    {
      "cell_type": "code",
      "metadata": {
        "id": "FzX-Z7O07O5Q"
      },
      "source": [
        "# Task19\r\n",
        "def function19():\r\n",
        "    #Create variable \"X\" from 1,25 (both are included) range values\r\n",
        "    #Convert \"X\" variable dimension into 5 rows and 5 columns\r\n",
        "    #Create one more variable \"W\" copy of \"X\" \r\n",
        "    #Swap \"W\" row and column axis (like transpose)\r\n",
        "    # then create variable \"b\" with value equal to 5\r\n",
        "    # Now return output as \"(X*W)+b:\r\n",
        "\r\n",
        "    X =   np.arange(1, 26).reshape(5, 5)# Write your code here\r\n",
        "    W =   X.T # Write your code here \r\n",
        "    b =   5 # Write your code here\r\n",
        "    output = (X*W)+b   # Write your code here\r\n",
        "    return output\r\n",
        "    #expected output\r\n",
        "    \"\"\"\r\n",
        "    array([[  6,  17,  38,  69, 110],\r\n",
        "       [ 17,  54, 101, 158, 225],\r\n",
        "       [ 38, 101, 174, 257, 350],\r\n",
        "       [ 69, 158, 257, 366, 485],\r\n",
        "       [110, 225, 350, 485, 630]])\r\n",
        "    \"\"\"\r\n",
        "function19()"
      ],
      "execution_count": null,
      "outputs": []
    },
    {
      "cell_type": "code",
      "metadata": {
        "colab": {
          "base_uri": "https://localhost:8080/"
        },
        "id": "-mEVxqiD8lGm",
        "outputId": "81fdb30c-39c2-45e7-c915-757e4697acc2"
      },
      "source": [
        "#Task20\r\n",
        "def function20(a):\r\n",
        "    #apply fuction \"abc\" on each value of Array \"X\"\r\n",
        "    #x = np.arange(1,11)\r\n",
        "    #def abc(x):\r\n",
        "    return x*2+3-2\r\n",
        "\r\n",
        "x = np.arange(1,11)\r\n",
        "print(function20(x))\r\n",
        "    #return x #Write your Code here\r\n",
        "#Expected Output: array([ 3,  5,  7,  9, 11, 13, 15, 17, 19, 21])\r\n"
      ],
      "execution_count": null,
      "outputs": [
        {
          "output_type": "stream",
          "text": [
            "[ 3  5  7  9 11 13 15 17 19 21]\n"
          ],
          "name": "stdout"
        }
      ]
    }
  ]
}